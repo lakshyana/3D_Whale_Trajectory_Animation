{
 "cells": [
  {
   "cell_type": "code",
   "execution_count": null,
   "metadata": {
    "collapsed": true
   },
   "outputs": [],
   "source": [
    "import csv\n",
    "import json\n",
    "import math\n",
    "import numpy as np\n",
    "\n",
    "import os"
   ]
  },
  {
   "cell_type": "markdown",
   "source": [
    "### Create Rotation Matrix from Orientation Angles (Head, Pitch, Roll)"
   ],
   "metadata": {
    "collapsed": false
   }
  },
  {
   "cell_type": "code",
   "execution_count": null,
   "outputs": [],
   "source": [
    "def make_rotation_matrix(head, pitch, roll):\n",
    "    '''\n",
    "    Create a rotation matrix based on head, pitch and roll angles that can be used to get the orientation of the whale in 3 dimensions.\n",
    "    '''\n",
    "    return np.array([\n",
    "        [math.cos(head) * math.cos(pitch), -1 * math.cos(head) * math.sin(pitch) * math.sin(roll) - math.sin(head) * math.cos(roll), -1 * math.cos(head) * math.sin(pitch) * math.cos(roll) + math.sin(head) * math.sin(roll)],\n",
    "        [math.sin(head) * math.cos(pitch), -1 * math.sin(head) * math.sin(pitch) * math.sin(roll) + math.cos(head) * math.cos(roll), -1 * math.sin(head) * math.sin(pitch) * math.cos(roll) - math.cos(head) * math.sin(roll)],\n",
    "        [math.sin(pitch), math.cos(pitch) * math.sin(roll), math.cos(pitch) * math.cos(roll)]])"
   ],
   "metadata": {
    "collapsed": false
   }
  },
  {
   "cell_type": "code",
   "execution_count": null,
   "outputs": [],
   "source": [
    "def get_orientation(orientation):\n",
    "    '''\n",
    "    Get the orientation of the whale in 3 dimensions.\n",
    "    '''\n",
    "    return np.array([orientation['x'], orientation['y'], orientation['z']])"
   ],
   "metadata": {
    "collapsed": false
   }
  },
  {
   "cell_type": "code",
   "execution_count": null,
   "outputs": [],
   "source": [
    "def get_orientation_angles(orientation):\n",
    "    '''\n",
    "    Get the orientation angles of the whale in 3 dimensions.\n",
    "    '''\n",
    "    return np.array([orientation['head'], orientation['pitch'], orientation['roll']])"
   ],
   "metadata": {
    "collapsed": false
   }
  },
  {
   "cell_type": "code",
   "execution_count": null,
   "outputs": [],
   "source": [
    "# Gets the trajectory estimates for the whale, used to create all of the different movement plots.\n",
    "import math\n",
    "import numpy as np\n",
    "import scipy.io\n",
    "import pandas as pd\n",
    "\n",
    "def create_whale_trajectory(prh_file):\n",
    "    # Create the whale trajectories from the PRH file, using rotation matrix to get direction angle.\n",
    "    whale_data = scipy.io.loadmat(prh_file)\n",
    "\n",
    "    print(\"Whale PRH Data: \", pd.DataFrame(whale_data).head(5))\n",
    "\n",
    "    name = prh_file.split('/')[-1]\n",
    "    frame_rate = whale_data['fs'][0][0]\n",
    "\n",
    "    x = [0]\n",
    "    y = [0]\n",
    "    z = [0]\n",
    "    speed_list = [0]\n",
    "\n",
    "    if 'head' in whale_data.keys(): # This just makes sure that the head, pitch and roll angles have been computed. It seems like with the new data you will have to compute these.\n",
    "        for i in range(len(whale_data['head'])):\n",
    "            rotation_matrix = make_rotation_matrix(whale_data['head'][i][0], whale_data['pitch'][i][0], whale_data['roll'][i][0])\n",
    "            no_speed_whale = np.array([1, 0, 0])\n",
    "            rotated_whale = np.matmul(no_speed_whale, rotation_matrix)\n",
    "            if i != len(whale_data['head']) - 1 and abs(math.atan(rotated_whale[2]/(math.sqrt(rotated_whale[0]**2 + rotated_whale[1]**2)))) > math.pi/6:\n",
    "                # This checks that the angle is big enough for a dive, and then computes the speed from change in depth.\n",
    "                speed_multiplier = abs(whale_data['p'][i][0] - whale_data['p'][i+1][0])/rotated_whale[2]\n",
    "            else:\n",
    "                # Otherwise we just assume the whale moves at 1.5m/s at the surface. This was given by a biologist but can be changed if incorrect.\n",
    "                speed_multiplier = 1.5/frame_rate\n",
    "            speed_list.append(speed_multiplier)\n",
    "            whale = speed_multiplier * rotated_whale\n",
    "            x.append(x[-1] + whale[0])\n",
    "            y.append(y[-1] + whale[1])\n",
    "            z.append(-1 * whale_data['p'][i][0])\n",
    "            speed_list.append(speed_multiplier)\n",
    "        pitch = whale_data['pitch']\n",
    "        roll = whale_data['roll']\n",
    "        head = whale_data['head']\n",
    "        acc = whale_data['Aw']\n",
    "    else:\n",
    "        raise ValueError('Need to implement transformation when not given pitch, roll and head explicitly.')\n",
    "\n",
    "    return {'name': name, 'x': x, 'y': y, 'z': z, 'fs': frame_rate, 'pitch': pitch, 'roll': roll, 'head': head, 'color': 'black', 'speed': speed_list}"
   ],
   "metadata": {
    "collapsed": false
   }
  }
 ],
 "metadata": {
  "kernelspec": {
   "display_name": "Python 3",
   "language": "python",
   "name": "python3"
  },
  "language_info": {
   "codemirror_mode": {
    "name": "ipython",
    "version": 2
   },
   "file_extension": ".py",
   "mimetype": "text/x-python",
   "name": "python",
   "nbconvert_exporter": "python",
   "pygments_lexer": "ipython2",
   "version": "2.7.6"
  }
 },
 "nbformat": 4,
 "nbformat_minor": 0
}
